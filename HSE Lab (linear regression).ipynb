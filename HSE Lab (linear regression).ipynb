{
 "cells": [
  {
   "cell_type": "markdown",
   "metadata": {},
   "source": [
    "# Лабораторная работа 2\n",
    "\n",
    "## Линейная регрессия"
   ]
  },
  {
   "cell_type": "markdown",
   "metadata": {},
   "source": [
    "### Метод наименьших квадратов: постановка задачи\n",
    "\n",
    "Рассмотрим систему уравнений $Xa = y$, в которой $a$ --- столбец неизвестных. Её можно переписать в векторном виде\n",
    "$$x_1 a_1 + x_2 a_2 + \\ldots + x_k a_k = y,$$\n",
    "где $x_1,\\ldots,x_n$ --- столбцы матрицы $X$. Таким образом, решить исходную систему означает найти линейную комбинацию векторов $x_1,\\ldots,x_n$, равную правой части. Но что делать, если такой линейной комбинации не существует? Геометрически это означает, что вектор $y$ не лежит в подпространстве $U = \\langle x_1,\\ldots, x_k\\rangle$. В этом случае мы можем найти *псевдорешение*: вектор коэффициентов $\\hat{a}$, для которого линейная комбинация $x_1 \\hat{a}_1 + x_2 \\hat{a}_2 + \\ldots + x_k \\hat{a}_k$ хоть и не равна в точности $y$, но является наилучшим приближением --- то есть ближайшей к $y$ точкой $\\hat{y}$ подпространства $U$ (иными словами, ортогональной проекцией $y$ на это подпростанство). Итак, цель наших исканий можно сформулировать двумя эквивалентными способами:\n",
    "\n",
    "1. Найти вектор $\\hat{a}$, для которого длина разности $|X\\hat{a} - y|$ минимальна (отсюда название \"метод наименьших квадратов\");\n",
    "2. Найти ортогональную проекцию $\\hat{y}$ вектора $y$ на подпространство $U$ и представить её в виде $X\\hat{a}$.\n",
    "\n",
    "Далее мы будем предполагать, что векторы $x_1,\\ldots,x_n$ линейно независимы (если нет, то сначала имеет смысл выделить максимальную линейно независимую подсистему).\n",
    "\n",
    "На лекциях было показано, что проекция вектора $y$ на подпространство $U = \\langle x_1,\\ldots, x_k\\rangle$, записывается в виде\n",
    "$$\\hat{y} = X\\left(X^TX\\right)^{-1}X^Ty,$$\n",
    "и, соответственно, искомый вектор $\\hat{a}$ равен\n",
    "$$\\hat{a} = \\left(X^TX\\right)^{-1}X^Ty.$$"
   ]
  },
  {
   "cell_type": "markdown",
   "metadata": {},
   "source": [
    "### Задача линейной регрессии\n",
    "\n",
    "Начнём с примера. Допустим, вы хотите найти зависимость среднего балла S студента ФКН от его роста H, веса W, длины волос L и N - количества часов, которые он ежедневно посвящает учёбе. Представьте, что мы измерили все эти параметры для $n$ студентов и получили наборы значений: $S_1,\\ldots, S_n$, $H_1,\\ldots, H_n$ и так далее.\n",
    "\n",
    "Тут можно подбирать много разных умных моделей, но начать имеет смысл с самой простой, линейной:\n",
    "$$S = a_1H + a_2W + a_3L + a_4N + a_5.$$\n",
    "Конечно, строгой линейной зависимости нет (иначе можно было бы радостно упразднить экзамены), но мы можем попробовать подобрать коэффициенты $a_1, a_2, a_3, a_4, a_5$, для которых отклонение правой части от наблюдаемых было бы наименьшим:\n",
    "$$\\sum_{i=1}^n\\left(S_i - ( a_1H_i + a_2W_i + a_3L_i + a_4N_i + a_5)\\right)^2 \\longrightarrow \\min$$\n",
    "И сразу видно, что мы получили задачу на метод наименьших квадратов! А именно, у нас\n",
    "$$X =\n",
    "\\begin{pmatrix}\n",
    "H_1 & W_1 & L_1 & N_1 & 1\\\\\n",
    "H_2 & W_2 & L_2 & N_2 & 1\\\\\n",
    "\\dots & \\dots & \\dots & \\dots & \\dots \\\\\n",
    "H_n & W_n & L_n & N_n & 1\n",
    "\\end{pmatrix},\\qquad y=\n",
    "\\begin{pmatrix}\n",
    "S_1\\\\ S_2\\\\ \\vdots \\\\ S_n\n",
    "\\end{pmatrix}$$\n",
    "\n",
    "Решая эту задачу с помощью уже известных формул, получаем оценки коэффициентов $\\hat{a}_i$ ($i = 1\\ldots,5$)."
   ]
  },
  {
   "cell_type": "markdown",
   "metadata": {},
   "source": [
    "Теперь проговорим общую постановку задачи линейной регрессии. У нас есть $k$ переменных $x_1,\\ldots,x_k$ (\"регрессоров\"), через которые мы хотим выразить \"объясняемую переменную\" $y$:\n",
    "$$y = a_1x_1 + a_2x_2 + \\ldots + a_kx_k$$\n",
    "Значения всех переменных мы измерили $n$ раз (у $n$ различных объектов,  в $n$ различных моментов времени - это зависит от задачи). Подставим эти данные в предыдущее равенство:\n",
    "$$\\begin{pmatrix}\n",
    "y_1\\\\ y_2 \\\\ \\vdots \\\\ y_n\n",
    "\\end{pmatrix} = \n",
    "a_1\\begin{pmatrix}\n",
    "x_{11} \\\\ x_{21} \\\\ \\vdots \\\\ x_{n1} \\end{pmatrix} + a_2\\begin{pmatrix}\n",
    "x_{12} \\\\ x_{22} \\\\ \\vdots \\\\ x_{n2} \\end{pmatrix} + \\ldots + a_k\\begin{pmatrix}\n",
    "x_{1k} \\\\ x_{2k} \\\\ \\vdots \\\\ x_{nk} \\end{pmatrix}$$\n",
    "(здесь $x_{ij}$ - это значение $j$-го признака на $i$-м измерении). Это удобно переписать в матричном виде:\n",
    "$$\\begin{pmatrix}\n",
    "x_{11} & x_{12} & \\ldots & x_{1k}\\\\\n",
    "x_{21} & x_{22} & \\ldots & x_{2k}\\\\\n",
    "\\dots & \\dots & \\dots & \\dots\\\\\n",
    "x_{n1} & x_{n2} & \\ldots & x_{nk}\n",
    "\\end{pmatrix} \\cdot\n",
    "\\begin{pmatrix}\n",
    "a_1 \\\\ a_2 \\\\ \\vdots \\\\ a_k\n",
    "\\end{pmatrix} = \n",
    "\\begin{pmatrix}\n",
    "y_1 \\\\ y_2 \\\\ \\vdots \\\\ y_n\n",
    "\\end{pmatrix}$$\n",
    "или коротко $Xa = y$. Поскольку на практике эта система уравнений зачастую не имеет решения (ибо зависимости в жизни редко бывают действительно линейными), методом наименьших квадратов ищется псевдорешение."
   ]
  },
  {
   "cell_type": "markdown",
   "metadata": {},
   "source": [
    "### Оценка качества. Обобщающая способность. Обучение и тест \n",
    "\n",
    "После того, как вы построили регрессию и получили какую-то зависимость объясняемой переменной от регрессоров, настаёт время оценить качество регрессии. Есть много разных функционалов качества; мы пока будем говорить только о самом простом и очевидном из них: о среднеквадратичной ошибке (mean square error). Она равна\n",
    "$$\\frac1{n}|X\\hat{a} - y|^2 = \\frac1{n}\\sum_{i=1}^n\\left(\\hat{a}_1x_{i1} + \\hat{a}_2x_{i2} + \\ldots + \\hat{a}_kx_{ik} - y_i\\right)^2$$\n",
    "\n",
    "В целом, хочется искать модели с наименьшей mean square error на имеющихся данных. Однако слишком фанатичная гонка за минимизацией ошибки может привести к печальным последствиям. Например, если мы приближаем функцию одной переменной по значениям в $n$ точках, то наилучшей с точки зрения этой ошибки моделью будет многочлен $(n-1)$-й степени, для которого эта ошибка будет равна нулю.  Тем не менее, вряд ли истинная зависимость имеет вид многочлена большой степени. Более того, значения вам скорее всего даны с погрешностью, то есть вы подогнали вашу модель под свои зашумлённые данные, но на любых других данных (то есть в других точках) точность, скорее всего, окажется совсем не такой хорошей. Этот эффект называют **переобучением**; говорят также, что **обобщающая способность** модели оказалась скверной.\n",
    "\n",
    "Чтобы не попадать в эту ловушку, данные обычно делят на обучающие (по которым строят модель и оценивают коэффициенты) и тестовые. Лучшей стоит счесть ту модель, для которой значение функционала качества будет меньше."
   ]
  },
  {
   "cell_type": "markdown",
   "metadata": {},
   "source": [
    "### Задание 1. Метод наименьших квадратов (4 балла)"
   ]
  },
  {
   "cell_type": "markdown",
   "metadata": {},
   "source": [
    "Скачайте файлы ``train.txt`` и ``test.txt``. В первом из них находится обучающая выборка, а во втором - тестовая. Каждый из файлов содержит два столбца чисел, разделённых пробелами: в первом - $n$ точек (значения аргумента $x$), во втором - значения некоторой функции $y = f(x)$ в этих точках, искажённые случайным шумом. Ваша задача - по обучающей выборке подобрать функцию $y = g(x)$, пристойно приближающую неизвестную вам зависимость."
   ]
  },
  {
   "cell_type": "markdown",
   "metadata": {},
   "source": [
    "Загрузим обучающие и тестовые данные (не забудьте ввести правильный путь!)."
   ]
  },
  {
   "cell_type": "code",
   "execution_count": 669,
   "metadata": {
    "collapsed": false
   },
   "outputs": [],
   "source": [
    "import numpy as np\n",
    "import scipy.linalg as sla\n",
    "import matplotlib.pyplot as plt\n",
    "%matplotlib inline\n",
    "import sklearn\n",
    "from sklearn.cross_validation import train_test_split  # так как версия sklearn 0.17, а в ней нет model_selection\n",
    "from scipy.misc import comb"
   ]
  },
  {
   "cell_type": "code",
   "execution_count": 670,
   "metadata": {
    "collapsed": true
   },
   "outputs": [],
   "source": [
    "data_train = np.loadtxt('train.txt', delimiter=',')\n",
    "data_test = np.loadtxt('test.txt', delimiter=',')"
   ]
  },
  {
   "cell_type": "markdown",
   "metadata": {},
   "source": [
    "Разделим значения $x$ и $y$"
   ]
  },
  {
   "cell_type": "code",
   "execution_count": 671,
   "metadata": {
    "collapsed": false
   },
   "outputs": [],
   "source": [
    "x_train = data_train[:,0]\n",
    "y_train = data_train[:,1]\n",
    "\n",
    "x_test = data_test[:,0]\n",
    "y_test = data_test[:,1]\n",
    "\n",
    "x_train_re = x_train.reshape(-1, 1)                                            # Инициализируем вектор-столбец\n",
    "x_test_re  = x_test.reshape(-1, 1)                                             # Инициализируем вектор-столбец"
   ]
  },
  {
   "cell_type": "markdown",
   "metadata": {},
   "source": [
    "Найдите с помощью метода наименьших квадратов линейную функцию ($y = kx + b$), наилучшим образом приближающую неизвестную зависимость. Полезные функции: ``numpy.ones(n)`` для создания массива из единиц длины $n$ и ``numpy.concatenate((А, В), axis=1)`` для слияния двух матриц по столбцам (пара ``А`` и ``В`` превращается в матрицу ``[A B]``)."
   ]
  },
  {
   "cell_type": "code",
   "execution_count": 672,
   "metadata": {
    "collapsed": false
   },
   "outputs": [
    {
     "name": "stdout",
     "output_type": "stream",
     "text": [
      "y = kx + b = 2.279x + 4.433\n"
     ]
    }
   ],
   "source": [
    "n = len(x_train)\n",
    "ones_re = np.ones(n).reshape(-1, 1)                                            # Вектор-столбец единиц для слияния с матрицей\n",
    "matrix = np.concatenate((x_train_re, ones_re), axis = 1)                       # Матрица X вида [x_11, x_12, ..., 1]...\n",
    "k, b = np.dot(np.dot(sla.inv(np.dot(matrix.T, matrix)), matrix.T), y_train)    # Искомые коэффициенты k, b\n",
    "print(\"y = kx + b = \"\n",
    "      , \"%.3f\" % k\n",
    "      , \"x + \"\n",
    "      , \"%.3f\" % b\n",
    "      , sep=\"\")"
   ]
  },
  {
   "cell_type": "markdown",
   "metadata": {},
   "source": [
    "Нарисуйте на плоскости точки $(x_i, y_i)$ и полученную линейную функцию. Глядя на данные, подумайте, многочленом какой степени можно было бы лучше всего приблизить эту функцию. Найдите этот многочлен и нарисуйте его график."
   ]
  },
  {
   "cell_type": "code",
   "execution_count": 673,
   "metadata": {
    "collapsed": true
   },
   "outputs": [],
   "source": [
    "y_train_new = k * x_train + b                                                 # Получившаяся функция"
   ]
  },
  {
   "cell_type": "code",
   "execution_count": 674,
   "metadata": {
    "collapsed": false
   },
   "outputs": [
    {
     "data": {
      "image/png": "[encoded data removed]",
      "text/plain": [
       "<matplotlib.figure.Figure at 0x1edcf11a2b0>"
      ]
     },
     "metadata": {},
     "output_type": "display_data"
    }
   ],
   "source": [
    "plt.figure(figsize=(9, 5))\n",
    "plt.title(\"Graph 1\")\n",
    "plt.plot(x_train, y_train_new, color=\"black\", label=\"function\")               # График линейной функции\n",
    "plt.scatter(x_train, y_train, color=\"red\", label=\"train values\")              # Значения на тренировочных данных\n",
    "plt.scatter(x_test, y_test, color=\"blue\", label=\"test values\")                # Значения на тестовых данных\n",
    "plt.legend(loc=4)\n",
    "plt.show()"
   ]
  },
  {
   "cell_type": "code",
   "execution_count": 675,
   "metadata": {
    "collapsed": false
   },
   "outputs": [],
   "source": [
    "# Очевидно, что наилучшего приближения можно добиться многочленом n-1 степени\n",
    "polynom = x_train_re**(n - 1)\n",
    "for i in range((n - 2), 0, -1):\n",
    "    polynom = np.concatenate((polynom, x_train_re**i), axis=1)\n",
    "polynom = np.concatenate((polynom, ones_re), axis=1)\n",
    "\n",
    "func_polynom = np.dot(np.dot(sla.inv(np.dot(polynom.T, polynom)), polynom.T), y_train)\n",
    "y_appr_polynom = []\n",
    "for i in range(len(polynom)):\n",
    "    y_appr_polynom.append(np.dot(func_polynom, polynom[i]))"
   ]
  },
  {
   "cell_type": "code",
   "execution_count": 676,
   "metadata": {
    "collapsed": false
   },
   "outputs": [
    {
     "data": {
      "image/png": "[encoded data removed]",
      "text/plain": [
       "<matplotlib.figure.Figure at 0x1edcc346550>"
      ]
     },
     "metadata": {},
     "output_type": "display_data"
    }
   ],
   "source": [
    "plt.figure(figsize=(9, 5))\n",
    "plt.title(\"Graph 2\")\n",
    "plt.plot(x_train, y_appr_polynom, color=\"green\", label=\"polynom\")             # График полинома n - 1степени\n",
    "plt.legend(loc=4)\n",
    "plt.show()"
   ]
  },
  {
   "cell_type": "markdown",
   "metadata": {},
   "source": [
    "Для $k = 1,2,3,\\ldots,10$ найдите многочлен $\\hat{f}_k$ степени $k$, наилучшим образом приближающий неизвестную зависимость. Для каждого из них найдите среднеквадратическую ошибку на обучающих данных и на тестовых данных: $\\frac1{n}\\sum_{i=1}^n\\left( \\hat{f}_k(x_i) - y_i \\right)^2$ (в первом случае сумма ведётся по парам $(x_i, y_i)$ из обучающих данных, а во втором - по парам из тестовых данных)."
   ]
  },
  {
   "cell_type": "code",
   "execution_count": 677,
   "metadata": {
    "collapsed": false
   },
   "outputs": [],
   "source": [
    "def build_polynomial(x, power):                                  # Построить матрицу для полинома\n",
    "    a = x**power\n",
    "    power -= 1\n",
    "    for i in range(power, 0, -1):\n",
    "        a = np.concatenate((a, x**i), axis=1)\n",
    "    a = np.concatenate((a, ones_re), axis=1)\n",
    "    return a"
   ]
  },
  {
   "cell_type": "code",
   "execution_count": 678,
   "metadata": {
    "collapsed": true
   },
   "outputs": [],
   "source": [
    "def ols(x, y):                                                   # Найти вектор неизвестных для матрицы полинома, т.е.\n",
    "    a = np.dot(np.dot(sla.inv(np.dot(x.T, x)), x.T), y)          # его коэффициенты\n",
    "    return a"
   ]
  },
  {
   "cell_type": "code",
   "execution_count": 679,
   "metadata": {
    "collapsed": true
   },
   "outputs": [],
   "source": [
    "def calc_error(f, x, y, n):                                      # Посчитать ошибку по формуле\n",
    "    error = 0\n",
    "    for i in range(n):\n",
    "        error += ((np.dot(f, x[i]) - y[i])**2)\n",
    "    return error / n"
   ]
  },
  {
   "cell_type": "code",
   "execution_count": 680,
   "metadata": {
    "collapsed": false
   },
   "outputs": [],
   "source": [
    "def print_errors(x_train, y_train, x_test, y_test, power, n):    # Вывод ошибок\n",
    "    print(\"----------------------------------\")\n",
    "    print(\"  k \\ttrain_data\\ttest_data\")\n",
    "    print(\"----------------------------------\")\n",
    "    for i in range(1, power + 1):\n",
    "        train_matrix = build_polynomial(x_train, i)              # Матрица для степени полинома тренировочных данных\n",
    "        test_matrix = build_polynomial(x_test, i)                # Матрица для степени полинома тестовых данных\n",
    "        func = ols(train_matrix, y_train)                        # Значение функции\n",
    "        train_error = calc_error(func, train_matrix, y_train, n) # Ошибка для тренировочных данных\n",
    "        test_error = calc_error(func, test_matrix, y_test, n)    # Ошибка для тестовых данных\n",
    "        print(\"| \"\n",
    "              , i\n",
    "              , \"       %.3f\" % train_error\n",
    "              , \"           %.3f\" % test_error\n",
    "              , \"  |\"\n",
    "              , sep=\"\"\n",
    "              , end=\"\\n----------------------------------\\n\")"
   ]
  },
  {
   "cell_type": "code",
   "execution_count": 681,
   "metadata": {
    "collapsed": false
   },
   "outputs": [
    {
     "name": "stdout",
     "output_type": "stream",
     "text": [
      "----------------------------------\n",
      "  k \ttrain_data\ttest_data\n",
      "----------------------------------\n",
      "| 1       0.297           0.435  |\n",
      "----------------------------------\n",
      "| 2       0.270           0.356  |\n",
      "----------------------------------\n",
      "| 3       0.269           0.355  |\n",
      "----------------------------------\n",
      "| 4       0.261           0.442  |\n",
      "----------------------------------\n",
      "| 5       0.250           0.558  |\n",
      "----------------------------------\n",
      "| 6       0.188           2.582  |\n",
      "----------------------------------\n",
      "| 7       0.185           2.516  |\n",
      "----------------------------------\n",
      "| 8       0.159           4.357  |\n",
      "----------------------------------\n",
      "| 9       0.158           4.776  |\n",
      "----------------------------------\n",
      "| 10       0.153           14.632  |\n",
      "----------------------------------\n"
     ]
    }
   ],
   "source": [
    "print_errors(x_train_re, y_train, x_test_re, y_test, 10, n)"
   ]
  },
  {
   "cell_type": "markdown",
   "metadata": {},
   "source": [
    "Для $k = 1,2,3,4,6$ напечатайте коэффициенты полученных многочленов и нарисуйте их графики на одном чертеже вместе с точками $(x_i, y_i)$ (возможно, график стоит сделать побольше; это делается командой `plt.figure(figsize=(width, height))`)."
   ]
  },
  {
   "cell_type": "code",
   "execution_count": 682,
   "metadata": {
    "collapsed": false
   },
   "outputs": [],
   "source": [
    "def print_coefficients(x_train, y_train):\n",
    "    print(\"---------------------------------------------------------------------------\")\n",
    "    for i in range(1, 7):\n",
    "        if (i != 5):\n",
    "            train_mat = build_polynomial(x_train, i)  # Полином для текущей степени\n",
    "            coefficients = ols(train_mat, y_train)    # Коэффициенты полинома\n",
    "            print(\"| Degree k =\", i, end=\": \")\n",
    "            for i in range(len(coefficients)):\n",
    "                print(\"%.3f\" % coefficients[i], end=\"\")\n",
    "                if (i != len(coefficients) - 1):\n",
    "                    print(\", \", end=\"\")\n",
    "            print(\"\\n---------------------------------------------------------------------------\")"
   ]
  },
  {
   "cell_type": "code",
   "execution_count": 683,
   "metadata": {
    "collapsed": false
   },
   "outputs": [
    {
     "name": "stdout",
     "output_type": "stream",
     "text": [
      "---------------------------------------------------------------------------\n",
      "| Degree k = 1: 2.279, 4.433\n",
      "---------------------------------------------------------------------------\n",
      "| Degree k = 2: 1.402, 1.158, 4.472\n",
      "---------------------------------------------------------------------------\n",
      "| Degree k = 3: -0.382, 1.860, 1.065, 4.461\n",
      "---------------------------------------------------------------------------\n",
      "| Degree k = 4: 7.918, -13.051, 6.794, 1.172, 4.341\n",
      "---------------------------------------------------------------------------\n",
      "| Degree k = 6: -229.970, 581.453, -481.510, 121.257, 16.003, -4.597, 4.384\n",
      "---------------------------------------------------------------------------\n"
     ]
    }
   ],
   "source": [
    "print_coefficients(x_train_re, y_train)"
   ]
  },
  {
   "cell_type": "code",
   "execution_count": 684,
   "metadata": {
    "collapsed": false
   },
   "outputs": [
    {
     "data": {
      "image/png": "[encoded data removed]",
      "text/plain": [
       "<matplotlib.figure.Figure at 0x1edd082a048>"
      ]
     },
     "metadata": {},
     "output_type": "display_data"
    }
   ],
   "source": [
    "plt.figure(figsize=(9, 5))\n",
    "plt.title(\"Graph 3\")\n",
    "degrees = [\"1 deg\", \"2 deg\", \"3 deg\", \"4 deg\", \"5 deg\", \"6 deg\"]\n",
    "colors = [\"black\", \"green\", \"red\", \"blue\", \"orange\", \"pink\"]\n",
    "\n",
    "for i in range(6):\n",
    "    if (i != 4):\n",
    "        y_appr = []\n",
    "        train_mat = build_polynomial(x_train_re, i+1)\n",
    "        f = ols(train_mat, y_train)\n",
    "        for j in range(len(train_mat)):\n",
    "            y_appr.append(np.dot(f, train_mat[j]))\n",
    "        plt.plot(x_train_re, y_appr, color=colors[i], label=degrees[i])\n",
    "\n",
    "plt.scatter(x_train_re, y_train, color=\"red\", label=\"train value\")\n",
    "plt.scatter(x_test_re, y_test, color=\"blue\", label=\"test value\")\n",
    "\n",
    "plt.legend(loc=4)\n",
    "plt.show()"
   ]
  },
  {
   "cell_type": "markdown",
   "metadata": {},
   "source": [
    "Что происходит с ошибкой при росте степени многочлена? Казалось бы, чем больше степень, тем более сложным будет многочлен и тем лучше он будет приближать нашу функцию. Подтверждают ли это ваши наблюдения? Как вам кажется, чем объясняется поведение ошибки на тестовых данных при $k = 10$?"
   ]
  },
  {
   "cell_type": "markdown",
   "metadata": {
    "collapsed": true
   },
   "source": [
    "Ответ: при $k \\geqslant 5$ чётко видно, что ошибка для тестовых данных начинает сильно возрастать, в то время как ошибка для тренировочных данных небольшими скачками понижается. При $k = 10$ видим, что ошибка увеличилась практически троекратно, что, видимо, свидетельствует о \"переобучении\". Точность вычислительной модели для тестовых данных уменьшилась в силу \"шумов\", присутствующих на тренировочных данных."
   ]
  },
  {
   "cell_type": "markdown",
   "metadata": {},
   "source": [
    "### Задание 2. Линейная регрессия (4 балла)"
   ]
  },
  {
   "cell_type": "markdown",
   "metadata": {},
   "source": [
    "Скачайте файлы ``flats_moscow_mod.txt`` и ``flats_moscow_description.txt``. В первом из них содержатся данные о квартирах в Москве. Каждая строка содержит шесть характеристик некоторой квартиры, разделённые знаками табуляции; в первой строке записаны кодовые названия характеристик. Во втором файле приведены краткие описания признаков. Вашей задачей будет построить с помощью метода наименьших квадратов (линейную) зависимость между ценой квартиры и остальными доступными параметрами.\n",
    "\n",
    "С помощью известных вам формул найдите регрессионные коэффициенты. Какой смысл имеют их знаки? Согласуются ли они с вашими представлениями о жизни?\n",
    "\n",
    "Оцените качество приближения, вычислив среднеквадратическую ошибку."
   ]
  },
  {
   "cell_type": "code",
   "execution_count": 685,
   "metadata": {
    "collapsed": false
   },
   "outputs": [],
   "source": [
    "data_flats = np.loadtxt('flats_moscow_mod.txt', delimiter='\\t', skiprows=1)"
   ]
  },
  {
   "cell_type": "code",
   "execution_count": 686,
   "metadata": {
    "collapsed": false
   },
   "outputs": [],
   "source": [
    "y_mod = data_flats[:,0]\n",
    "x_mod = data_flats[:,1:]\n",
    "ones = np.ones(len(x_mod)).reshape(-1, 1)\n",
    "x_mod = np.concatenate((x_mod, ones), axis=1)"
   ]
  },
  {
   "cell_type": "code",
   "execution_count": 687,
   "metadata": {
    "collapsed": false
   },
   "outputs": [
    {
     "name": "stdout",
     "output_type": "stream",
     "text": [
      "Regression coefficients: 1.487, 1.656, 1.819, -3.327, -1.316, -26.789, "
     ]
    }
   ],
   "source": [
    "result = np.dot(np.dot(sla.inv(np.dot(x_mod.T, x_mod)), x_mod.T), y_mod)\n",
    "print(\"Regression coefficients: \", end=\"\")\n",
    "for coef in result:\n",
    "    print(\"%.3f\" % coef, end=\", \")"
   ]
  },
  {
   "cell_type": "code",
   "execution_count": 688,
   "metadata": {
    "collapsed": false
   },
   "outputs": [
    {
     "name": "stdout",
     "output_type": "stream",
     "text": [
      "Mean square error = 924.009\n"
     ]
    }
   ],
   "source": [
    "flat_error = calc_error(result, x_mod, y_mod, len(x_mod))\n",
    "print(\"Mean square error = \", \"%.3f\" % flat_error, sep=\"\")"
   ]
  },
  {
   "cell_type": "markdown",
   "metadata": {
    "collapsed": true
   },
   "source": [
    "### Усложнение модели"
   ]
  },
  {
   "cell_type": "markdown",
   "metadata": {},
   "source": [
    "Конечно, никто не гарантирует, что объясняемая переменная (цена квартиры) зависит от остальных характеристик именно линейно. Зависимость может быть, например, квадратичной или логарифмической; больше того, могут быть важны не только отдельные признаки, но и их комбинации. Это можно учитывать, добавляя в качестве дополнительных признаков разные функции от уже имеющихся характеристик: их квадраты, логарифмы, попарные произведения.\n",
    "\n",
    "В этом задании вам нужно постараться улучшить качество модели, добавляя дополнительные признаки, являющиеся функциями от уже имеющихся. Но будьте осторожны: чрезмерное усложнение модели будет приводить к переобучению. \n",
    "\n",
    "**Сравнение моделей**\n",
    "\n",
    "Когда вы построите новую модель, вам захочется понять, лучше она или хуже, чем изначальная. Проверять это на той же выборке, на которой вы обучались, бессмысленно и даже вредно (вспомните пример с многочленами: как прекрасно падала ошибка на обучающей выборке с ростом степени!). Поэтому вам нужно будет разделить выборку на обучающую и тестовую. Делать это лучше случайным образом (ведь вы не знаете, как создатели датасета упорядочили объекты); рекомендуем вам для этого функцию `sklearn.model_selection.train_test_split`."
   ]
  },
  {
   "cell_type": "code",
   "execution_count": 689,
   "metadata": {
    "collapsed": false
   },
   "outputs": [],
   "source": [
    "data_train, data_test = sklearn.cross_validation.train_test_split(data_flats, test_size=0.5, train_size=0.5, random_state=13)\n",
    "\n",
    "x_train_flats = data_train[:,1:]\n",
    "y_train_flats = data_train[:,0]\n",
    "\n",
    "x_test_flats = data_test[:,1:]\n",
    "y_test_flats = data_test[:,0]\n",
    "\n",
    "rows = len(x_test_flats)\n",
    "columns = len(x_test_flats[0])"
   ]
  },
  {
   "cell_type": "code",
   "execution_count": 690,
   "metadata": {
    "collapsed": false
   },
   "outputs": [
    {
     "name": "stdout",
     "output_type": "stream",
     "text": [
      "Mean square error for square model = 914.4491\n"
     ]
    }
   ],
   "source": [
    "def square_model(initial):\n",
    "    square_result = np.concatenate((initial, initial**2, np.ones(len(y_train_flats)).reshape(-1, 1)), axis=1)\n",
    "    return square_result\n",
    "\n",
    "square_train = square_model(x_train_flats)\n",
    "square_test = square_model(x_test_flats)\n",
    "square_error = calc_error(ols(square_train, y_train_flats), square_test, y_test_flats, rows)\n",
    "print(\"Mean square error for square model =\", \"%.4f\" % square_error)"
   ]
  },
  {
   "cell_type": "code",
   "execution_count": 691,
   "metadata": {
    "collapsed": false
   },
   "outputs": [
    {
     "name": "stdout",
     "output_type": "stream",
     "text": [
      "Mean square error for logarithmic model = 947.4511\n"
     ]
    }
   ],
   "source": [
    "def logarithmic_model(initial):\n",
    "    logarithmic_result = np.concatenate((initial, np.log(initial), np.ones(len(y_train_flats)).reshape(-1, 1)), axis=1)\n",
    "    return logarithmic_result\n",
    "\n",
    "logarithmic_train = logarithmic_model(x_train_flats)\n",
    "logarithmic_test = logarithmic_model(x_test_flats)\n",
    "logarithmic_error = calc_error(ols(logarithmic_train, y_train_flats), logarithmic_test, y_test_flats, rows)\n",
    "print(\"Mean square error for logarithmic model =\", \"%.4f\" % logarithmic_error)"
   ]
  },
  {
   "cell_type": "code",
   "execution_count": 692,
   "metadata": {
    "collapsed": false
   },
   "outputs": [
    {
     "name": "stdout",
     "output_type": "stream",
     "text": [
      "Mean square error for pair model = 941.6787\n"
     ]
    }
   ],
   "source": [
    "def pair_model(initial):\n",
    "    ones_matrix = np.ones((rows, columns))\n",
    "    for i in range(rows):\n",
    "        for j in range(columns):\n",
    "            ones_matrix[i][j] = initial[i][j]\n",
    "    for i in range(columns):\n",
    "        for j in range(i + 1, columns):\n",
    "            ones_column = np.ones(rows)\n",
    "            for k in range(rows):\n",
    "                ones_column[k] = ones_matrix[:,i][k] * ones_matrix[:,j][k]\n",
    "            ones_matrix = np.concatenate((ones_matrix, ones_column.reshape(-1, 1)), axis=1)\n",
    "    ones_matrix = np.concatenate((ones_matrix, np.ones(rows).reshape(-1, 1)), axis=1)\n",
    "    return ones_matrix\n",
    "\n",
    "pair_train = pair_model(x_train_flats)\n",
    "pair_test = pair_model(x_test_flats)\n",
    "pair_error = calc_error(ols(pair_train, y_train_flats), pair_test, y_test_flats, rows)\n",
    "print(\"Mean square error for pair model =\", \"%.4f\" % pair_error)"
   ]
  },
  {
   "cell_type": "markdown",
   "metadata": {},
   "source": [
    "### Задание 3. Регуляризация (2 балла)"
   ]
  },
  {
   "cell_type": "markdown",
   "metadata": {},
   "source": [
    "Вспомним, что задача линейной регрессии формулируется как задача нахождения проекции вектора значений объясняемой переменной $y$ на линейную оболочку $\\langle x_1,\\ldots,x_k\\rangle$ векторов значений регрессоров. Если векторы $x_1,\\ldots,x_k$ линейно зависимы, то матрица $X^TX$ вырожденна и задача не будет решаться (то есть будет, но не с помощью приведённой выше формулы). В жизни, по счастью, различные признаки редко бывают *в точности* линейно зависимы, однако во многих ситуациях они скоррелированы и становятся \"почти\" линейно зависимыми. Таковы, к примеру, зарплата человека, его уровень образования, цена машины и суммарная площадь недвижимости, которой он владеет. В этом случае матрица $X^TX$ будет близка к вырожденной, и это приводит к численной неустойчивости и плохому качеству решений; как следствие, будет иметь место переобучение. Один из симптомов этой проблемы - необычно большие по модулю компоненты вектора $a$.\n",
    "\n",
    "Есть много способов борьбы с этим злом. Один из них - регуляризация. Сейчас мы рассмотрим одну из её разновидностей --- L2-регуляризацию. Идея в том, чтобы подправить матрицу $X^TX$, сделав её \"получше\". Например, это можно сделать, заменив её на $(X^TX + \\lambda E)$, где $\\lambda$ --- некоторый скаляр. Пожертвовав точностью на обучающей выборке, мы тем не менее получаем численно более стабильное псевдорешение $a = (X^TX + \\lambda E)^{-1}X^Ty$ и снижаем эффект переобучения. Параметр $\\lambda$ нужно подбирать, и каких-то универсальных способов это делать нет, но зачастую можно его подобрать таким, чтобы ошибка на тестовой выборке падала. "
   ]
  },
  {
   "cell_type": "markdown",
   "metadata": {},
   "source": [
    "Теперь давайте вспомним первую задачу. Если вы её сделали, то помните, что ошибка аппроксимации многочленом шестой степени довольно высокая. Убедитесь, что, используя регуляризацию с хорошо подобранным коэффициентом $\\lambda$, ошибку на тестовой выборке можно сделать не больше, чем для многочлена оптимальной степени в модели без регрессии. Для этого $\\lambda$ сравните $\\det(X^TX)$ и $\\det(X^TX + \\lambda E)$."
   ]
  },
  {
   "cell_type": "code",
   "execution_count": 693,
   "metadata": {
    "collapsed": true
   },
   "outputs": [],
   "source": [
    "data_train = np.loadtxt('train.txt', delimiter=',')\n",
    "data_test = np.loadtxt('test.txt', delimiter=',')\n",
    "\n",
    "x_train = data_train[:,0].reshape(-1, 1)\n",
    "y_train = data_train[:,1]\n",
    "\n",
    "x_test = data_test[:,0].reshape(-1, 1)\n",
    "y_test = data_test[:,1]"
   ]
  },
  {
   "cell_type": "code",
   "execution_count": 724,
   "metadata": {
    "collapsed": true
   },
   "outputs": [],
   "source": [
    "def ols_wo (x, y, i):\n",
    "    n = (np.dot(x.T, x)).shape[1]\n",
    "    result = np.dot(np.dot(sla.inv((np.dot(x.T, x)) + (i * np.eye(n))), x.T), y)\n",
    "    return result"
   ]
  },
  {
   "cell_type": "code",
   "execution_count": 725,
   "metadata": {
    "collapsed": true
   },
   "outputs": [],
   "source": [
    "def find_minimal_error():\n",
    "    min_msq_wo = 100000\n",
    "    coefficient_for_msq = 0\n",
    "    i = -5.0\n",
    "    while (i <= 5.0):\n",
    "        train_polynom6 = build_polynomial(x_train, 6)\n",
    "        test_polynom6 = build_polynomial(x_test, 6)\n",
    "        \n",
    "        coefficients_wo = ols_wo(train_polynom6, y_train, i)\n",
    "        msq_wo = calc_error(coefficients_wo, test_polynom6, y_test, len(x_test))\n",
    "        if (msq_wo < min_msq_wo):\n",
    "            min_msq_wo = msq_wo\n",
    "            coefficient_for_msq = i\n",
    "        i += 0.001\n",
    "    return [min_msq_wo, coefficient_for_msq]"
   ]
  },
  {
   "cell_type": "code",
   "execution_count": 737,
   "metadata": {
    "collapsed": false
   },
   "outputs": [
    {
     "name": "stdout",
     "output_type": "stream",
     "text": [
      "0.3073 1.1580\n"
     ]
    }
   ],
   "source": [
    "# Требуется добиться лучшей оптимизации, чем у полинома со степенью k = 3, т.к.\n",
    "# при нём была наименьшая среднеквадратическая ошкибка ошибка\n",
    "\n",
    "train_polynom3 = build_polynomial(x_train, 3)\n",
    "test_polynom3 = build_polynomial(x_test, 3)\n",
    "\n",
    "coefficients_no = ols(train_polynom3, y_train)\n",
    "msq_no = calc_error(coefficients_no, test_polynom3, y_test, len(y_test))\n",
    "\n",
    "min_msq_wo, min_coefficient = find_minimal_error()\n",
    "print(\"%.4f\" % min_msq_wo, \"%.4f\" % min_coefficient)"
   ]
  },
  {
   "cell_type": "code",
   "execution_count": 736,
   "metadata": {
    "collapsed": false
   },
   "outputs": [
    {
     "name": "stdout",
     "output_type": "stream",
     "text": [
      "7.133\n",
      "2837.966\n"
     ]
    }
   ],
   "source": [
    "print(\"%.3f\" % np.linalg.det(np.dot(x_test.T, x_test)))\n",
    "print(\"%.3f\" % np.linalg.det(np.dot(x_test.T, x_test) + min_coefficient * np.eye(len(x_test))))"
   ]
  },
  {
   "cell_type": "markdown",
   "metadata": {},
   "source": [
    "Нарисуйте на одном чертеже графики многочленов шестой степени, приближающих неизвестную функцию, для модели с регуляризацией и без. Чем первый из них выгодно отличается от второго?"
   ]
  },
  {
   "cell_type": "code",
   "execution_count": null,
   "metadata": {
    "collapsed": true
   },
   "outputs": [],
   "source": []
  },
  {
   "cell_type": "markdown",
   "metadata": {},
   "source": [
    "Попробуйте доказать, что вектор $a = (X^TX + \\lambda E)^{-1}X^Ty$ является решением задачи\n",
    "\n",
    "$$|Xa - y|^2 + \\lambda|a|^2\\rightarrow\\min$$\n",
    "\n",
    "Интуитивно это можно понимать так: мы ищем компромисс между минимизацией длины разности $|Xa - y|$ (то есть точностью решения задачи регрессии) и тем, чтобы компоненты вектора $a$ не становились слишком большими по модулю.\n",
    "\n",
    "---\n",
    "\n",
    "**Ваше решение**"
   ]
  }
 ],
 "metadata": {
  "anaconda-cloud": {},
  "kernelspec": {
   "display_name": "Python [conda root]",
   "language": "python",
   "name": "conda-root-py"
  },
  "language_info": {
   "codemirror_mode": {
    "name": "ipython",
    "version": 3
   },
   "file_extension": ".py",
   "mimetype": "text/x-python",
   "name": "python",
   "nbconvert_exporter": "python",
   "pygments_lexer": "ipython3",
   "version": "3.5.2"
  }
 },
 "nbformat": 4,
 "nbformat_minor": 0
}
